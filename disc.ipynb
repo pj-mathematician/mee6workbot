{
  "cells": [
    {
      "cell_type": "markdown",
      "metadata": {
        "id": "view-in-github",
        "colab_type": "text"
      },
      "source": [
        "<a href=\"https://colab.research.google.com/github/pj-mathematician/mee6workbot/blob/main/disc.ipynb\" target=\"_parent\"><img src=\"https://colab.research.google.com/assets/colab-badge.svg\" alt=\"Open In Colab\"/></a>"
      ]
    },
    {
      "cell_type": "code",
      "execution_count": 1,
      "metadata": {
        "id": "gsai9IiTx_WK"
      },
      "outputs": [],
      "source": [
        "#@title Installs the required library\n",
        "%%capture\n",
        "!pip install kora"
      ]
    },
    {
      "cell_type": "code",
      "execution_count": null,
      "metadata": {
        "id": "kUn_cxZbyI0W"
      },
      "outputs": [],
      "source": [
        "#@title Run this cell, it will display the login screen of discord and you have to scan the QR code using your cell phone\n",
        "from kora.selenium import wd\n",
        "from IPython.display import Image\n",
        "import time\n",
        "wd.set_window_size(1024, 768)\n",
        "wd.get(\"https://discord.com/login\")\n",
        "elements = wd.find_elements_by_tag_name(\"input\")\n",
        "time.sleep(4)\n",
        "wd.save_screenshot(\"log.png\")\n",
        "Image(\"log.png\")"
      ]
    },
    {
      "cell_type": "code",
      "execution_count": null,
      "metadata": {
        "id": "7QtCsZWQDZAT"
      },
      "outputs": [],
      "source": [
        "#@title Run this cell to confirm that you have logged in successfully. It will display the #token-commands channel screenshot\n",
        "wd.get(\"https://discord.com/channels/925575407758094416/960608175164383302\")\n",
        "time.sleep(10)\n",
        "wd.save_screenshot(\"channel.png\")\n",
        "Image(\"channel.png\")"
      ]
    },
    {
      "cell_type": "code",
      "execution_count": null,
      "metadata": {
        "id": "zLrTWrsJFywn"
      },
      "outputs": [],
      "source": [
        "#@title This is the main worker loop, it will run for 12 hours (maximum colab runtime per session) while sending \"!work\" every hour\n",
        "from tqdm import tqdm\n",
        "element = wd.switch_to.active_element\n",
        "for i in range(24):\n",
        "  element.send_keys(\"!work\\n\")\n",
        "  for j in tqdm(range(3600)):\n",
        "    time.sleep(1)"
      ]
    }
  ],
  "metadata": {
    "colab": {
      "collapsed_sections": [],
      "name": "disc.ipynb",
      "provenance": [],
      "authorship_tag": "ABX9TyMBwgm6Hls/i3stxLl183eF",
      "include_colab_link": true
    },
    "kernelspec": {
      "display_name": "Python 3",
      "name": "python3"
    },
    "language_info": {
      "name": "python"
    }
  },
  "nbformat": 4,
  "nbformat_minor": 0
}